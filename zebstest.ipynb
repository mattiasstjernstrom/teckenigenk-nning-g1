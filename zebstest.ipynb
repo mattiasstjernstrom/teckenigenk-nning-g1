{
 "cells": [
  {
   "cell_type": "code",
   "execution_count": 6,
   "metadata": {},
   "outputs": [],
   "source": [
    "import pandas as pd\n",
    "import time\n",
    "from sklearn.ensemble import RandomForestClassifier\n",
    "from sklearn.neighbors import KNeighborsClassifier\n",
    "from sklearn.model_selection import GridSearchCV\n",
    "from sklearn.metrics import accuracy_score"
   ]
  },
  {
   "cell_type": "code",
   "execution_count": 7,
   "metadata": {},
   "outputs": [],
   "source": [
    "def load_emnist_data():\n",
    "    df_emnist_train = pd.read_csv(\"data/emnist-balanced-train.csv\")\n",
    "    df_emnist_test = pd.read_csv(\"data/emnist-balanced-test.csv\")\n",
    "    return df_emnist_train, df_emnist_test"
   ]
  },
  {
   "cell_type": "markdown",
   "metadata": {},
   "source": [
    "# Testar vilket antal träd som ger bäst träffsäkerhet."
   ]
  },
  {
   "cell_type": "code",
   "execution_count": 8,
   "metadata": {},
   "outputs": [],
   "source": [
    "def train_RF():\n",
    "    df_emnist_train, df_emnist_test = load_emnist_data()\n",
    "\n",
    "    X_train = df_emnist_train.drop(columns=['label'])\n",
    "    y_train = df_emnist_train['label']\n",
    "    X_test = df_emnist_test.drop(columns=['label'])\n",
    "    y_test = df_emnist_test['label']\n",
    "\n",
    "    n_estimators_options = [50, 100, 200]\n",
    "    best_accuracy = 0\n",
    "    best_n_estimators = 0\n",
    "    best_rf_model = None\n",
    "    \n",
    "    for n_estimators in n_estimators_options:\n",
    "        start_time = time.time()  # Starta tidtagningen 1\n",
    "        rf = RandomForestClassifier(n_estimators=n_estimators)\n",
    "        rf.fit(X_train, y_train)\n",
    "        end_time = time.time()  # Stoppa tidtagningen 1\n",
    "\n",
    "        start_time_pred = time.time() # Starta tidtagningen 2\n",
    "        y_pred = rf.predict(X_test)\n",
    "        accuracy = accuracy_score(y_test, y_pred)\n",
    "        end_tme_pred = time.time() # Stoppa tidtagningen 2\n",
    "\n",
    "        training_time = end_time - start_time  # Beräkna tidenerna\n",
    "        pred_time = end_tme_pred - start_time_pred\n",
    "        total_time = training_time + pred_time\n",
    "\n",
    "        print(f\"RF Model with n_estimators = {n_estimators}, Accuracy: {accuracy:.3f}\")\n",
    "        print(f'Training Time: {training_time:.2f} seconds')\n",
    "        print(f'Prediction Time: {pred_time:.2f} seconds')\n",
    "        print(f'Total Time: {total_time:.2f} seconds')\n",
    "        print(f'--------------------------------------------------------------------')\n",
    "        \n",
    "        if accuracy > best_accuracy:\n",
    "            best_accuracy = accuracy\n",
    "            best_n_estimators = n_estimators\n",
    "            best_rf_model = rf\n",
    "    \n",
    "    print(f\"Best RF Model n_estimators: {best_n_estimators}\")\n",
    "    print(f\"Best RF Model Accuracy: {best_accuracy:.3f}\")\n",
    "    \n",
    "    return best_rf_model"
   ]
  },
  {
   "cell_type": "markdown",
   "metadata": {},
   "source": [
    "# Testar vilket värde på k som ger bäst träffsäkerhet."
   ]
  },
  {
   "cell_type": "code",
   "execution_count": 9,
   "metadata": {},
   "outputs": [],
   "source": [
    "def train_KNN():\n",
    "    df_emnist_train, df_emnist_test = load_emnist_data()\n",
    "\n",
    "    X_train = df_emnist_train.drop(columns=['label'])\n",
    "    y_train = df_emnist_train['label']\n",
    "    X_test = df_emnist_test.drop(columns=['label'])\n",
    "    y_test = df_emnist_test['label']\n",
    "\n",
    "    n_neighbors_options = [3, 5, 7, 9]\n",
    "    best_accuracy = 0\n",
    "    best_n_neighbors = 0\n",
    "    best_knn_model = None\n",
    "    \n",
    "    for n_neighbors in n_neighbors_options:\n",
    "        start_time = time.time()  # Starta tidtagningen 1\n",
    "        knn = KNeighborsClassifier(n_neighbors=n_neighbors)\n",
    "        knn.fit(X_train, y_train)\n",
    "        end_time = time.time()  # Stoppa tidtagningen 1\n",
    "\n",
    "        start_time_pred = time.time() # Starta tidtagningen 2\n",
    "        y_pred = knn.predict(X_test)\n",
    "        accuracy = accuracy_score(y_test, y_pred)\n",
    "        end_tme_pred = time.time() # Stoppa tidtagningen 2\n",
    "\n",
    "        training_time = end_time - start_time  # Beräkna tidenerna\n",
    "        pred_time = end_tme_pred - start_time_pred\n",
    "        total_time = training_time + pred_time\n",
    "\n",
    "        print(f\"KNN Model with n_neighbors = {n_neighbors}, Accuracy: {accuracy:.3f}\")\n",
    "        print(f'Training Time: {training_time:.2f} seconds')\n",
    "        print(f'Prediction Time: {pred_time:.2f} seconds')\n",
    "        print(f'Total Time: {total_time:.2f} seconds')\n",
    "        print(f'--------------------------------------------------------------------')\n",
    "        \n",
    "        if accuracy > best_accuracy:\n",
    "            best_accuracy = accuracy\n",
    "            best_n_neighbors = n_neighbors\n",
    "            best_knn_model = knn\n",
    "    \n",
    "    print(f\"Best KNN Model n_neighbors: {best_n_neighbors}\")\n",
    "    print(f\"Best KNN Model Accuracy: {best_accuracy:.3f}\")\n",
    "    \n",
    "    return best_knn_model"
   ]
  },
  {
   "cell_type": "code",
   "execution_count": 10,
   "metadata": {},
   "outputs": [
    {
     "name": "stdout",
     "output_type": "stream",
     "text": [
      "RF Model with n_estimators = 50, Accuracy: 0.803\n",
      "Training Time: 56.85 seconds\n",
      "Prediction Time: 0.50 seconds\n",
      "Total Time: 57.34 seconds\n",
      "--------------------------------------------------------------------\n",
      "RF Model with n_estimators = 100, Accuracy: 0.813\n",
      "Training Time: 117.38 seconds\n",
      "Prediction Time: 1.09 seconds\n",
      "Total Time: 118.47 seconds\n",
      "--------------------------------------------------------------------\n",
      "RF Model with n_estimators = 200, Accuracy: 0.817\n",
      "Training Time: 235.60 seconds\n",
      "Prediction Time: 2.16 seconds\n",
      "Total Time: 237.76 seconds\n",
      "--------------------------------------------------------------------\n",
      "Best RF Model n_estimators: 200\n",
      "Best RF Model Accuracy: 0.817\n"
     ]
    }
   ],
   "source": [
    "best_rf_model = train_RF()"
   ]
  },
  {
   "cell_type": "code",
   "execution_count": 11,
   "metadata": {},
   "outputs": [
    {
     "name": "stdout",
     "output_type": "stream",
     "text": [
      "KNN Model with n_neighbors = 3, Accuracy: 0.780\n",
      "Training Time: 0.25 seconds\n",
      "Prediction Time: 41.21 seconds\n",
      "Total Time: 41.46 seconds\n",
      "--------------------------------------------------------------------\n",
      "KNN Model with n_neighbors = 5, Accuracy: 0.785\n",
      "Training Time: 0.30 seconds\n",
      "Prediction Time: 50.57 seconds\n",
      "Total Time: 50.87 seconds\n",
      "--------------------------------------------------------------------\n",
      "KNN Model with n_neighbors = 7, Accuracy: 0.784\n",
      "Training Time: 0.27 seconds\n",
      "Prediction Time: 49.54 seconds\n",
      "Total Time: 49.82 seconds\n",
      "--------------------------------------------------------------------\n",
      "KNN Model with n_neighbors = 9, Accuracy: 0.782\n",
      "Training Time: 0.31 seconds\n",
      "Prediction Time: 48.94 seconds\n",
      "Total Time: 49.26 seconds\n",
      "--------------------------------------------------------------------\n",
      "Best KNN Model n_neighbors: 5\n",
      "Best KNN Model Accuracy: 0.785\n"
     ]
    }
   ],
   "source": [
    "best_knn_model = train_KNN()"
   ]
  }
 ],
 "metadata": {
  "kernelspec": {
   "display_name": "venv",
   "language": "python",
   "name": "python3"
  },
  "language_info": {
   "codemirror_mode": {
    "name": "ipython",
    "version": 3
   },
   "file_extension": ".py",
   "mimetype": "text/x-python",
   "name": "python",
   "nbconvert_exporter": "python",
   "pygments_lexer": "ipython3",
   "version": "3.11.5"
  }
 },
 "nbformat": 4,
 "nbformat_minor": 2
}
