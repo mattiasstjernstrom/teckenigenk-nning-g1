{
 "cells": [
  {
   "cell_type": "code",
   "execution_count": 6,
   "metadata": {},
   "outputs": [],
   "source": [
    "from sklearn.neighbors import KNeighborsClassifier\n",
    "from matplotlib import pyplot as plt\n",
    "from sklearn.metrics import accuracy_score\n",
    "import seaborn as sns\n",
    "import numpy as np\n",
    "import pandas as pd\n",
    "from sklearn.ensemble import RandomForestClassifier\n",
    "from xgboost import XGBClassifier\n",
    "from sklearn.model_selection import train_test_split"
   ]
  },
  {
   "cell_type": "code",
   "execution_count": 7,
   "metadata": {},
   "outputs": [],
   "source": [
    "# Testar A-Z datasetet\n",
    "df_a_z = pd.read_csv(\"data/A_Z_Data.csv\")"
   ]
  },
  {
   "cell_type": "code",
   "execution_count": 8,
   "metadata": {},
   "outputs": [
    {
     "name": "stdout",
     "output_type": "stream",
     "text": [
      "Datasetet har 372450 rader och 785 kolumner.\n"
     ]
    }
   ],
   "source": [
    "# Testar A-Z datasetet\n",
    "df_a_z = pd.read_csv(\"data/A_Z_Data.csv\")\n",
    "\n",
    "# Visa antalet rader och kolumner\n",
    "rows, columns = df_a_z.shape\n",
    "print(f\"Datasetet har {rows} rader och {columns} kolumner.\")"
   ]
  },
  {
   "cell_type": "markdown",
   "metadata": {},
   "source": [
    "# Testar A_Z dataset med KNN, Randomforest och XGBoost"
   ]
  },
  {
   "cell_type": "code",
   "execution_count": 9,
   "metadata": {},
   "outputs": [],
   "source": [
    "# Subsample datasetet (t.ex., 10% av det ursprungliga datasetet)\n",
    "df_sampled = df_a_z.sample(frac=0.1, random_state=42)\n",
    "\n",
    "# Första kolumnen är 'label', resterande kolumner är pixelvärden\n",
    "X = df_sampled.iloc[:, 1:]  # features\n",
    "y = df_sampled.iloc[:, 0]  # labels\n",
    "\n",
    "# Dela upp datasetet i train och test data (80% träning, 20% test)\n",
    "X_train, X_test, y_train, y_test = train_test_split(X, y, test_size=0.2, random_state=42)"
   ]
  },
  {
   "cell_type": "code",
   "execution_count": 10,
   "metadata": {},
   "outputs": [
    {
     "name": "stdout",
     "output_type": "stream",
     "text": [
      "Accuracy of KNN: 0.920\n",
      "--------------------\n",
      "Accuracy of RandomForest: 0.931\n",
      "--------------------\n",
      "Accuracy of XGBoost: 0.941\n",
      "--------------------\n"
     ]
    }
   ],
   "source": [
    "# Initiera och träna KNN-modellen\n",
    "knn = KNeighborsClassifier(n_neighbors=3)\n",
    "knn.fit(X_train, y_train)\n",
    "# Förutsäga på testdata\n",
    "y_pred_knn = knn.predict(X_test)\n",
    "# Beräkna noggrannhet\n",
    "accuracy_knn = accuracy_score(y_test, y_pred_knn)\n",
    "print(f'Accuracy of KNN: {accuracy_knn:.3f}')\n",
    "print(20 * \"-\")\n",
    "\n",
    "# Initiera och träna RandomForest-modellen\n",
    "rf = RandomForestClassifier(n_estimators=100, random_state=42)\n",
    "rf.fit(X_train, y_train)\n",
    "# Förutsäga på testdata\n",
    "y_pred_rf = rf.predict(X_test)\n",
    "# Beräkna noggrannhet\n",
    "accuracy_rf = accuracy_score(y_test, y_pred_rf)\n",
    "print(f'Accuracy of RandomForest: {accuracy_rf:.3f}')\n",
    "print(20 * \"-\")\n",
    "\n",
    "xgb = XGBClassifier()\n",
    "xgb.fit(X_train, y_train)\n",
    "y_pred = xgb.predict(X_test)\n",
    "accuracy = accuracy_score(y_test, y_pred)\n",
    "print(f'Accuracy of XGBoost: {accuracy:.3f}')\n",
    "print(20 * \"-\")"
   ]
  }
 ],
 "metadata": {
  "kernelspec": {
   "display_name": "venv",
   "language": "python",
   "name": "python3"
  },
  "language_info": {
   "codemirror_mode": {
    "name": "ipython",
    "version": 3
   },
   "file_extension": ".py",
   "mimetype": "text/x-python",
   "name": "python",
   "nbconvert_exporter": "python",
   "pygments_lexer": "ipython3",
   "version": "3.11.5"
  }
 },
 "nbformat": 4,
 "nbformat_minor": 2
}
