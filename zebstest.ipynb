{
 "cells": [
  {
   "cell_type": "code",
   "execution_count": 19,
   "metadata": {},
   "outputs": [],
   "source": [
    "import pandas as pd\n",
    "import time\n",
    "from sklearn.ensemble import RandomForestClassifier\n",
    "from sklearn.neighbors import KNeighborsClassifier\n",
    "from sklearn.neural_network import MLPClassifier\n",
    "from sklearn.model_selection import GridSearchCV\n",
    "from sklearn.model_selection import train_test_split\n",
    "from sklearn.metrics import accuracy_score"
   ]
  },
  {
   "cell_type": "code",
   "execution_count": 20,
   "metadata": {},
   "outputs": [],
   "source": [
    "def load_emnist_data():\n",
    "    df_emnist_train = pd.read_csv(\"data/emnist-balanced-train.csv\")\n",
    "    df_emnist_test = pd.read_csv(\"data/emnist-balanced-test.csv\")\n",
    "    return df_emnist_train, df_emnist_test"
   ]
  },
  {
   "cell_type": "markdown",
   "metadata": {},
   "source": [
    "# Testar vilket antal träd som ger bäst träffsäkerhet."
   ]
  },
  {
   "cell_type": "code",
   "execution_count": 21,
   "metadata": {},
   "outputs": [],
   "source": [
    "def train_RF():\n",
    "    df_emnist_train, df_emnist_test = load_emnist_data()\n",
    "\n",
    "    X_train = df_emnist_train.drop(columns=['label'])\n",
    "    y_train = df_emnist_train['label']\n",
    "    X_test = df_emnist_test.drop(columns=['label'])\n",
    "    y_test = df_emnist_test['label']\n",
    "\n",
    "    n_estimators_options = [50, 100, 200]\n",
    "    best_accuracy = 0\n",
    "    best_n_estimators = 0\n",
    "    best_rf_model = None\n",
    "    \n",
    "    for n_estimators in n_estimators_options:\n",
    "        start_time = time.time()  # Starta tidtagningen 1\n",
    "        rf = RandomForestClassifier(n_estimators=n_estimators)\n",
    "        rf.fit(X_train, y_train)\n",
    "        end_time = time.time()  # Stoppa tidtagningen 1\n",
    "\n",
    "        start_time_pred = time.time() # Starta tidtagningen 2\n",
    "        y_pred = rf.predict(X_test)\n",
    "        accuracy = accuracy_score(y_test, y_pred)\n",
    "        end_tme_pred = time.time() # Stoppa tidtagningen 2\n",
    "\n",
    "        training_time = end_time - start_time  # Beräkna tidenerna\n",
    "        pred_time = end_tme_pred - start_time_pred\n",
    "        total_time = training_time + pred_time\n",
    "\n",
    "        print(f\"RF Model with n_estimators = {n_estimators}, Accuracy: {accuracy:.3f}\")\n",
    "        print(f'Training Time: {training_time:.2f} seconds')\n",
    "        print(f'Prediction Time: {pred_time:.2f} seconds')\n",
    "        print(f'Total Time: {total_time:.2f} seconds')\n",
    "        print(f'--------------------------------------------------------------------')\n",
    "        \n",
    "        if accuracy > best_accuracy:\n",
    "            best_accuracy = accuracy\n",
    "            best_n_estimators = n_estimators\n",
    "            best_rf_model = rf\n",
    "    \n",
    "    print(f\"Best RF Model n_estimators: {best_n_estimators}\")\n",
    "    print(f\"Best RF Model Accuracy: {best_accuracy:.3f}\")\n",
    "    \n",
    "    return best_rf_model"
   ]
  },
  {
   "cell_type": "markdown",
   "metadata": {},
   "source": [
    "# Testar vilket värde på k som ger bäst träffsäkerhet."
   ]
  },
  {
   "cell_type": "code",
   "execution_count": 22,
   "metadata": {},
   "outputs": [],
   "source": [
    "def train_KNN():\n",
    "    df_emnist_train, df_emnist_test = load_emnist_data()\n",
    "\n",
    "    X_train = df_emnist_train.drop(columns=['label'])\n",
    "    y_train = df_emnist_train['label']\n",
    "    X_test = df_emnist_test.drop(columns=['label'])\n",
    "    y_test = df_emnist_test['label']\n",
    "\n",
    "    n_neighbors_options = [3, 5, 7, 9]\n",
    "    best_accuracy = 0\n",
    "    best_n_neighbors = 0\n",
    "    best_knn_model = None\n",
    "    \n",
    "    for n_neighbors in n_neighbors_options:\n",
    "        start_time = time.time()  # Starta tidtagningen 1\n",
    "        knn = KNeighborsClassifier(n_neighbors=n_neighbors)\n",
    "        knn.fit(X_train, y_train)\n",
    "        end_time = time.time()  # Stoppa tidtagningen 1\n",
    "\n",
    "        start_time_pred = time.time() # Starta tidtagningen 2\n",
    "        y_pred = knn.predict(X_test)\n",
    "        accuracy = accuracy_score(y_test, y_pred)\n",
    "        end_tme_pred = time.time() # Stoppa tidtagningen 2\n",
    "\n",
    "        training_time = end_time - start_time  # Beräkna tidenerna\n",
    "        pred_time = end_tme_pred - start_time_pred\n",
    "        total_time = training_time + pred_time\n",
    "\n",
    "        print(f\"KNN Model with n_neighbors = {n_neighbors}, Accuracy: {accuracy:.3f}\")\n",
    "        print(f'Training Time: {training_time:.2f} seconds')\n",
    "        print(f'Prediction Time: {pred_time:.2f} seconds')\n",
    "        print(f'Total Time: {total_time:.2f} seconds')\n",
    "        print(f'--------------------------------------------------------------------')\n",
    "        \n",
    "        if accuracy > best_accuracy:\n",
    "            best_accuracy = accuracy\n",
    "            best_n_neighbors = n_neighbors\n",
    "            best_knn_model = knn\n",
    "    \n",
    "    print(f\"Best KNN Model n_neighbors: {best_n_neighbors}\")\n",
    "    print(f\"Best KNN Model Accuracy: {best_accuracy:.3f}\")\n",
    "    \n",
    "    return best_knn_model"
   ]
  },
  {
   "cell_type": "markdown",
   "metadata": {},
   "source": [
    "## Testar olika inställningar för ANN på 10% av datan för att se vilken som ger bäst resultat."
   ]
  },
  {
   "cell_type": "code",
   "execution_count": 23,
   "metadata": {},
   "outputs": [],
   "source": [
    "def train_ANN():\n",
    "    df_emnist_train, df_emnist_test = load_emnist_data()\n",
    "\n",
    "    X_train = df_emnist_train.drop(columns=['label']).values / 255.0\n",
    "    y_train = df_emnist_train['label']\n",
    "    X_test = df_emnist_test.drop(columns=['label']).values / 255.0\n",
    "    y_test = df_emnist_test['label']\n",
    "\n",
    "    X_train_small, _, y_train_small, _ = train_test_split(X_train, y_train, train_size=0.1, random_state=42)\n",
    "\n",
    "    \n",
    "    configurations = [\n",
    "        # Färre lager och neuroner\n",
    "        {\"hidden_layer_sizes\": (64, 32), \"learning_rate_init\": 0.001, \"max_iter\": 600, \"random_state\": 42},\n",
    "        # Många lager och neuroner\n",
    "        {\"hidden_layer_sizes\": (512, 256, 128, 64), \"learning_rate_init\": 0.001, \"max_iter\": 600, \"random_state\": 42},\n",
    "        # Symmetriska antal neuroner\n",
    "        {\"hidden_layer_sizes\": (128, 128, 64, 64), \"learning_rate_init\": 0.001, \"max_iter\": 600, \"random_state\": 42},\n",
    "        # Färre lager med flera neuroner\n",
    "        {\"hidden_layer_sizes\": (128, 128), \"learning_rate_init\": 0.001, \"max_iter\": 600, \"random_state\": 42},\n",
    "        # Färre neuroner med fler lager\n",
    "        {\"hidden_layer_sizes\": (64, 64, 32, 32, 16), \"learning_rate_init\": 0.001, \"max_iter\": 600, \"random_state\": 42}\n",
    "    ]\n",
    "\n",
    "    best_accuracy = 0\n",
    "    best_config = None\n",
    "    best_ann_model = None\n",
    "    \n",
    "    for config in configurations:\n",
    "        ann = MLPClassifier(hidden_layer_sizes=config[\"hidden_layer_sizes\"], learning_rate_init=config[\"learning_rate_init\"], random_state=config[\"random_state\"])\n",
    "        \n",
    "        start_time = time.time()  # Starta tidtagningen 1\n",
    "        ann.fit(X_train_small, y_train_small)\n",
    "        end_time = time.time()  # Stoppa tidtagningen 1\n",
    "\n",
    "        training_time = end_time - start_time  # Beräkna tiden\n",
    "        \n",
    "        start_time_pred = time.time() # Starta tidtagningen 2\n",
    "        y_pred = ann.predict(X_test)\n",
    "        accuracy = accuracy_score(y_test, y_pred)\n",
    "        end_tme_pred = time.time() # Stoppa tidtagningen 2\n",
    "\n",
    "        training_time = end_time - start_time  # Beräkna tidenerna\n",
    "        pred_time = end_tme_pred - start_time_pred\n",
    "        total_time = training_time + pred_time\n",
    "        \n",
    "        print(f\"ANN Model with config: {config}\")\n",
    "        print(f\"Accuracy: {accuracy:.3f}\")\n",
    "        print(f'Training Time: {training_time:.2f} seconds')\n",
    "        print(f'Prediction Time: {pred_time:.2f} seconds')\n",
    "        print(f'Total Time: {total_time:.2f} seconds')\n",
    "        print('--------------------------------------------------------------------')\n",
    "        \n",
    "        if accuracy > best_accuracy:\n",
    "            best_accuracy = accuracy\n",
    "            best_config = config\n",
    "            best_ann_model = ann\n",
    "\n",
    "    print(f\"Best ANN Model Configuration: {best_config}\")\n",
    "    print(f\"Best ANN Model Accuracy: {best_accuracy:.3f}\")\n",
    "    \n",
    "    return best_ann_model"
   ]
  },
  {
   "cell_type": "code",
   "execution_count": 24,
   "metadata": {},
   "outputs": [
    {
     "name": "stderr",
     "output_type": "stream",
     "text": [
      "c:\\Users\\Zebas\\OneDrive\\Skrivbord\\Vs Code Programmering\\Maskininlärning\\GruppUppgift\\teckenigenk-nning-g1\\venv\\Lib\\site-packages\\sklearn\\neural_network\\_multilayer_perceptron.py:691: ConvergenceWarning: Stochastic Optimizer: Maximum iterations (200) reached and the optimization hasn't converged yet.\n",
      "  warnings.warn(\n"
     ]
    },
    {
     "name": "stdout",
     "output_type": "stream",
     "text": [
      "ANN Model with config: {'hidden_layer_sizes': (64, 32), 'learning_rate_init': 0.0001, 'max_iter': 600, 'random_state': 42}\n",
      "Accuracy: 0.692\n",
      "Training Time: 38.62 seconds\n",
      "Prediction Time: 0.04 seconds\n",
      "Total Time: 38.67 seconds\n",
      "--------------------------------------------------------------------\n"
     ]
    },
    {
     "name": "stderr",
     "output_type": "stream",
     "text": [
      "c:\\Users\\Zebas\\OneDrive\\Skrivbord\\Vs Code Programmering\\Maskininlärning\\GruppUppgift\\teckenigenk-nning-g1\\venv\\Lib\\site-packages\\sklearn\\neural_network\\_multilayer_perceptron.py:691: ConvergenceWarning: Stochastic Optimizer: Maximum iterations (200) reached and the optimization hasn't converged yet.\n",
      "  warnings.warn(\n"
     ]
    },
    {
     "name": "stdout",
     "output_type": "stream",
     "text": [
      "ANN Model with config: {'hidden_layer_sizes': (512, 256, 128, 64), 'learning_rate_init': 0.0001, 'max_iter': 600, 'random_state': 42}\n",
      "Accuracy: 0.741\n",
      "Training Time: 423.23 seconds\n",
      "Prediction Time: 0.22 seconds\n",
      "Total Time: 423.45 seconds\n",
      "--------------------------------------------------------------------\n"
     ]
    },
    {
     "name": "stderr",
     "output_type": "stream",
     "text": [
      "c:\\Users\\Zebas\\OneDrive\\Skrivbord\\Vs Code Programmering\\Maskininlärning\\GruppUppgift\\teckenigenk-nning-g1\\venv\\Lib\\site-packages\\sklearn\\neural_network\\_multilayer_perceptron.py:691: ConvergenceWarning: Stochastic Optimizer: Maximum iterations (200) reached and the optimization hasn't converged yet.\n",
      "  warnings.warn(\n"
     ]
    },
    {
     "name": "stdout",
     "output_type": "stream",
     "text": [
      "ANN Model with config: {'hidden_layer_sizes': (128, 128, 64, 64), 'learning_rate_init': 0.0001, 'max_iter': 600, 'random_state': 42}\n",
      "Accuracy: 0.728\n",
      "Training Time: 122.63 seconds\n",
      "Prediction Time: 0.08 seconds\n",
      "Total Time: 122.72 seconds\n",
      "--------------------------------------------------------------------\n"
     ]
    },
    {
     "name": "stderr",
     "output_type": "stream",
     "text": [
      "c:\\Users\\Zebas\\OneDrive\\Skrivbord\\Vs Code Programmering\\Maskininlärning\\GruppUppgift\\teckenigenk-nning-g1\\venv\\Lib\\site-packages\\sklearn\\neural_network\\_multilayer_perceptron.py:691: ConvergenceWarning: Stochastic Optimizer: Maximum iterations (200) reached and the optimization hasn't converged yet.\n",
      "  warnings.warn(\n"
     ]
    },
    {
     "name": "stdout",
     "output_type": "stream",
     "text": [
      "ANN Model with config: {'hidden_layer_sizes': (128, 128), 'learning_rate_init': 0.0001, 'max_iter': 600, 'random_state': 42}\n",
      "Accuracy: 0.733\n",
      "Training Time: 156.65 seconds\n",
      "Prediction Time: 0.09 seconds\n",
      "Total Time: 156.74 seconds\n",
      "--------------------------------------------------------------------\n",
      "ANN Model with config: {'hidden_layer_sizes': (64, 64, 32, 32, 16), 'learning_rate_init': 0.0001, 'max_iter': 600, 'random_state': 42}\n",
      "Accuracy: 0.679\n",
      "Training Time: 49.63 seconds\n",
      "Prediction Time: 0.05 seconds\n",
      "Total Time: 49.68 seconds\n",
      "--------------------------------------------------------------------\n",
      "Best ANN Model Configuration: {'hidden_layer_sizes': (512, 256, 128, 64), 'learning_rate_init': 0.0001, 'max_iter': 600, 'random_state': 42}\n",
      "Best ANN Model Accuracy: 0.741\n"
     ]
    },
    {
     "name": "stderr",
     "output_type": "stream",
     "text": [
      "c:\\Users\\Zebas\\OneDrive\\Skrivbord\\Vs Code Programmering\\Maskininlärning\\GruppUppgift\\teckenigenk-nning-g1\\venv\\Lib\\site-packages\\sklearn\\neural_network\\_multilayer_perceptron.py:691: ConvergenceWarning: Stochastic Optimizer: Maximum iterations (200) reached and the optimization hasn't converged yet.\n",
      "  warnings.warn(\n"
     ]
    }
   ],
   "source": [
    "best_ann_model = train_ANN()"
   ]
  },
  {
   "cell_type": "markdown",
   "metadata": {},
   "source": [
    "## Testar den inställning som gav bäst resultat på ANN på olika stora delar av datasetet."
   ]
  },
  {
   "cell_type": "code",
   "execution_count": 25,
   "metadata": {},
   "outputs": [],
   "source": [
    "# Best ANN Model Configuration: {'hidden_layer_sizes': (256, 128, 64), 'learning_rate_init': 0.001, 'max_iter': 600, 'random_state': 42, 'activation': 'relu'}\n",
    "def train_ANN_with_different_data_sizes(data_fraction):\n",
    "    df_emnist_train, df_emnist_test = load_emnist_data()\n",
    "    \n",
    "    X_train = df_emnist_train.drop(columns=['label']).values / 255.0\n",
    "    y_train = df_emnist_train['label']\n",
    "    X_test = df_emnist_test.drop(columns=['label']).values / 255.0\n",
    "    y_test = df_emnist_test['label']\n",
    "    \n",
    "    # Ta en delmängd av träningsdatan\n",
    "    subset_size = int(data_fraction * len(X_train))\n",
    "    X_train_small = X_train[:subset_size]\n",
    "    y_train_small = y_train[:subset_size]\n",
    "    \n",
    "    ann = MLPClassifier(hidden_layer_sizes=(256, 128, 64), learning_rate_init=0.001, max_iter=600, activation=\"relu\" , random_state=42)\n",
    "    start_time = time.time()\n",
    "    ann.fit(X_train_small, y_train_small)\n",
    "    end_time = time.time()\n",
    "    training_time = end_time - start_time\n",
    "    \n",
    "    accuracy = ann.score(X_test, y_test)\n",
    "    \n",
    "    print(f\"Data Fraction: {data_fraction}\")\n",
    "    print(f\"ANN Model Accuracy: {accuracy:.3f}\")\n",
    "    print(f'Training Time: {training_time:.2f} seconds')\n",
    "    print('--------------------------------------------------------------------')\n",
    "    \n",
    "    return ann\n",
    "\n",
    "# Testar med olika träningsstorlekar\n",
    "#fractions = [0.1,0.3,0.5,0.7,1.0]\n",
    "#for fraction in fractions:\n",
    "    #train_ANN_with_different_data_sizes(fraction)\n"
   ]
  },
  {
   "cell_type": "code",
   "execution_count": 26,
   "metadata": {},
   "outputs": [],
   "source": [
    "#best_rf_model = train_RF()"
   ]
  },
  {
   "cell_type": "code",
   "execution_count": 27,
   "metadata": {},
   "outputs": [],
   "source": [
    "#best_knn_model = train_KNN()"
   ]
  }
 ],
 "metadata": {
  "kernelspec": {
   "display_name": "venv",
   "language": "python",
   "name": "python3"
  },
  "language_info": {
   "codemirror_mode": {
    "name": "ipython",
    "version": 3
   },
   "file_extension": ".py",
   "mimetype": "text/x-python",
   "name": "python",
   "nbconvert_exporter": "python",
   "pygments_lexer": "ipython3",
   "version": "3.11.5"
  }
 },
 "nbformat": 4,
 "nbformat_minor": 2
}
